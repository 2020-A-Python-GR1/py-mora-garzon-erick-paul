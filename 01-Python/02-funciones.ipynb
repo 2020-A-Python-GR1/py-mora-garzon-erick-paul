{
 "cells": [
  {
   "cell_type": "code",
   "execution_count": 1,
   "metadata": {},
   "outputs": [
    {
     "name": "stdout",
     "output_type": "stream",
     "text": [
      "Hola mundo\n"
     ]
    },
    {
     "data": {
      "text/plain": [
       "NoneType"
      ]
     },
     "execution_count": 1,
     "metadata": {},
     "output_type": "execute_result"
    }
   ],
   "source": [
    "#Funciones\n",
    "\n",
    "def hola_mundo():\n",
    "    print(\"Hola mundo\")\n",
    "type(hola_mundo())"
   ]
  },
  {
   "cell_type": "code",
   "execution_count": 6,
   "metadata": {},
   "outputs": [
    {
     "name": "stdout",
     "output_type": "stream",
     "text": [
      "5\n",
      "la suma de 2 y 3 es igual a 5\n"
     ]
    }
   ],
   "source": [
    "def sumar_dos_numeros(num_uno, num_dos): #parametros requeridos\n",
    "    return num_uno + num_dos\n",
    "print(sumar_dos_numeros(2,3))\n",
    "total_suma = sumar_dos_numeros(2,3)\n",
    "print(f\"la suma de 2 y 3 es igual a {total_suma}\")"
   ]
  },
  {
   "cell_type": "code",
   "execution_count": 9,
   "metadata": {},
   "outputs": [
    {
     "name": "stdout",
     "output_type": "stream",
     "text": [
      "universidad: EPN\n",
      "universidad: ESPE\n"
     ]
    }
   ],
   "source": [
    "def imprimir_universidad(nombre = \"EPN\"): #parametros opcionales\n",
    "    print(f\"universidad: {nombre}\") #parametros por defecto\n",
    "imprimir_universidad()\n",
    "imprimir_universidad(\"ESPE\")"
   ]
  },
  {
   "cell_type": "code",
   "execution_count": 10,
   "metadata": {},
   "outputs": [
    {
     "name": "stdout",
     "output_type": "stream",
     "text": [
      "color: Blanco\n",
      "placa: ABC-1234\n",
      "horse power: 3000\n",
      "año: 1986\n"
     ]
    }
   ],
   "source": [
    "#regla 1 parametros requeridos\n",
    "#      2 parametros opcionales\n",
    "def imprimir_carro(color, placa, hp, anio=1986):\n",
    "    print(f\"color: {color}\")\n",
    "    print(f\"placa: {placa}\")\n",
    "    print(f\"horse power: {hp}\")\n",
    "    print(f\"año: {anio}\")\n",
    "imprimir_carro(\"Blanco\", \"ABC-1234\", 3000)"
   ]
  },
  {
   "cell_type": "code",
   "execution_count": 11,
   "metadata": {},
   "outputs": [
    {
     "name": "stdout",
     "output_type": "stream",
     "text": [
      "color: blanco\n",
      "placa: DEF-456\n",
      "horse power: 2500\n",
      "año: 1998\n"
     ]
    }
   ],
   "source": [
    "imprimir_carro(anio= 1998,\n",
    "                placa = \"DEF-456\",\n",
    "                hp = 2500,\n",
    "                color = \"blanco\") #parametros nombrados, el orden no importa si estan nombrados"
   ]
  },
  {
   "cell_type": "code",
   "execution_count": 12,
   "metadata": {},
   "outputs": [
    {
     "name": "stdout",
     "output_type": "stream",
     "text": [
      "color: negro\n",
      "placa: abc-432\n",
      "horse power: 4500\n",
      "año: 1986\n"
     ]
    }
   ],
   "source": [
    "imprimir_carro(\"negro\", \"abc-432\", anio=1986, hp = 4500) "
   ]
  },
  {
   "cell_type": "code",
   "execution_count": 18,
   "metadata": {},
   "outputs": [
    {
     "name": "stdout",
     "output_type": "stream",
     "text": [
      "1\n",
      "(2, 21, 4, 5, 6, 5, 4)\n",
      "<class 'tuple'>\n"
     ]
    }
   ],
   "source": [
    "#parametros infinitos\n",
    "def sumar_numeros(primer_numero,\n",
    "                     *numeros):\n",
    "    print(primer_numero)\n",
    "    print(numeros)\n",
    "    print(type(numeros))\n",
    "sumar_numeros(1,2,21,4,5,6,5,4)"
   ]
  },
  {
   "cell_type": "code",
   "execution_count": 19,
   "metadata": {},
   "outputs": [
    {
     "data": {
      "text/plain": [
       "48"
      ]
     },
     "execution_count": 19,
     "metadata": {},
     "output_type": "execute_result"
    }
   ],
   "source": [
    "def sumar_numeros(primer_numero,\n",
    "                     *numeros):\n",
    "    suma = primer_numero\n",
    "    for numero in numeros:\n",
    "        suma = suma + numero\n",
    "    return suma\n",
    "sumar_numeros(1,2,21,4,5,6,5,4)"
   ]
  },
  {
   "cell_type": "code",
   "execution_count": 21,
   "metadata": {},
   "outputs": [
    {
     "name": "stdout",
     "output_type": "stream",
     "text": [
      "{'saludo': 'hola', 'mensaje': 'mundo'}\n",
      "<class 'dict'>\n"
     ]
    }
   ],
   "source": [
    "def establecer_configuracion(**kwargs): #key word arguments\n",
    "    print(kwargs)                       #parametros nombrados\n",
    "    print(type(kwargs))\n",
    "#establecer_configuracion(\"hola\",\"mundo\") mal\n",
    "establecer_configuracion(saludo = \"hola\", mensaje = \"mundo\")"
   ]
  },
  {
   "cell_type": "code",
   "execution_count": 22,
   "metadata": {},
   "outputs": [],
   "source": [
    "#reglas\n",
    "def ejemplo(requerido_uno,\n",
    "           requerido_dos,\n",
    "           opcional_uno = 1,\n",
    "           opcional_dos = 2,\n",
    "           *infinitos,\n",
    "           **kwargs):\n",
    "    print(\":)\")"
   ]
  },
  {
   "cell_type": "code",
   "execution_count": null,
   "metadata": {},
   "outputs": [],
   "source": []
  }
 ],
 "metadata": {
  "kernelspec": {
   "display_name": "Python 3",
   "language": "python",
   "name": "python3"
  },
  "language_info": {
   "codemirror_mode": {
    "name": "ipython",
    "version": 3
   },
   "file_extension": ".py",
   "mimetype": "text/x-python",
   "name": "python",
   "nbconvert_exporter": "python",
   "pygments_lexer": "ipython3",
   "version": "3.7.6"
  }
 },
 "nbformat": 4,
 "nbformat_minor": 4
}
